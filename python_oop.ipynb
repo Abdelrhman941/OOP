{
 "cells": [
  {
   "cell_type": "markdown",
   "metadata": {},
   "source": [
    "<h1 align=\"center\"> <strong>Classes and Objects</strong> </h1>\n",
    "\n",
    "```md\n",
    "1- python is an object oriented programming language. \n",
    "\n",
    "2- Everything in Python is an object, with its properties and methods. A number, string, list, dictionary, tuple, set etc. used in a program is an object of a corresponding built-in class. \n",
    "\n",
    "3- We create class to create an object. A class is like an object constructor, or a \"blueprint\" for creating objects. \n",
    "\n",
    "4- We instantiate a class to create an object. The class defines attributes and the behavior of the object, while the object, on the other hand, represents the class.\n",
    "\n",
    "5- We have been working with classes and objects right from the beginning of this challenge unknowingly. Every element in a Python program is an object of a class.\n",
    "```"
   ]
  },
  {
   "cell_type": "code",
   "execution_count": 8,
   "metadata": {},
   "outputs": [
    {
     "name": "stdout",
     "output_type": "stream",
     "text": [
      "<class 'int'>\n",
      "<class 'float'>\n",
      "<class 'complex'>\n",
      "<class 'str'>\n",
      "<class 'list'>\n",
      "<class 'dict'>\n",
      "<class 'set'>\n",
      "<class 'tuple'>\n"
     ]
    }
   ],
   "source": [
    "# Checking data types\n",
    "def ty(value):\n",
    "    print(type(value))\n",
    "\n",
    "ty(10)                     # Int\n",
    "ty(3.14)                   # Float\n",
    "ty(1 + 3j)                 # Complex\n",
    "ty('Radwan')               # String\n",
    "ty([1, 2, 3])              # List\n",
    "ty({'name':'mahmoud'})     # Dictionary\n",
    "ty({9.8, 3.14, 2.7})       # Set\n",
    "ty((9.8, 3.14, 2.7))       # Tuple"
   ]
  },
  {
   "cell_type": "markdown",
   "metadata": {},
   "source": [
    "> - **Creating a Class** : To create a class we need the key word class followed by the name and colon. Class name should be CamelCase."
   ]
  },
  {
   "cell_type": "code",
   "execution_count": 9,
   "metadata": {},
   "outputs": [
    {
     "name": "stdout",
     "output_type": "stream",
     "text": [
      "<class 'type'>\n",
      "<class '__main__.Person'>\n"
     ]
    }
   ],
   "source": [
    "class Person:\n",
    "    pass\n",
    "\n",
    "ty(Person)\n",
    "print(Person)"
   ]
  },
  {
   "cell_type": "markdown",
   "metadata": {},
   "source": [
    "> - **Creating an Object** : We can create an object by calling the class."
   ]
  },
  {
   "cell_type": "code",
   "execution_count": 10,
   "metadata": {},
   "outputs": [
    {
     "name": "stdout",
     "output_type": "stream",
     "text": [
      "<class '__main__.Person'>\n",
      "<__main__.Person object at 0x0000015C861ABFD0>\n"
     ]
    }
   ],
   "source": [
    "ahmed  = Person()\n",
    "\n",
    "ty(ahmed)\n",
    "print(ahmed)"
   ]
  },
  {
   "cell_type": "markdown",
   "metadata": {},
   "source": [
    "> - **Class Constructor**\n",
    "```md\n",
    "\n",
    "1- In the examples above, we have created an object from the Person class. However, a class without a constructor is not really useful in real applications. \n",
    "\n",
    "2- Let us use constructor function to make our class more useful. Like the constructor function in Java or JavaScript, Python has also a built-in init() constructor function. \n",
    "\n",
    "3- The init constructor function has self parameter which is a reference to the current instance of the class Examples\n",
    "```"
   ]
  },
  {
   "cell_type": "code",
   "execution_count": 11,
   "metadata": {},
   "outputs": [
    {
     "name": "stdout",
     "output_type": "stream",
     "text": [
      "Ali\n",
      "<__main__.Person object at 0x0000015C8542ECD0> \n",
      "\n",
      "Mahmoud\n",
      "<__main__.Person object at 0x0000015C8542C990>\n"
     ]
    }
   ],
   "source": [
    "class Person:\n",
    "  def __init__ (self, name):    # Constructor method\n",
    "    self.name =name\n",
    "\n",
    "p = Person('Mahmoud')\n",
    "a = Person('Ali')\n",
    "\n",
    "print(a.name)\n",
    "print(a,\"\\n\")\n",
    "\n",
    "print(p.name)\n",
    "print(p)"
   ]
  },
  {
   "cell_type": "code",
   "execution_count": 12,
   "metadata": {},
   "outputs": [
    {
     "name": "stdout",
     "output_type": "stream",
     "text": [
      "Mahmoud\n",
      "Mohamed\n",
      "26\n",
      "Egypt\n",
      "Cairo\n"
     ]
    }
   ],
   "source": [
    "# add more parameters to the constructor function.\n",
    "class Person:\n",
    "    def __init__(self, firstname, lastname, age, country, city):\n",
    "        self.firstname = firstname\n",
    "        self.lastname  = lastname\n",
    "        self.age       = age\n",
    "        self.country   = country\n",
    "        self.city      = city\n",
    "\n",
    "p = Person('Mahmoud', 'Mohamed', 26, 'Egypt', 'Cairo')\n",
    "\n",
    "print(p.firstname)\n",
    "print(p.lastname)\n",
    "print(p.age)\n",
    "print(p.country)\n",
    "print(p.city)"
   ]
  },
  {
   "cell_type": "markdown",
   "metadata": {},
   "source": [
    "> - **Object Methods** : Objects can have methods. The methods are functions which belong to the object."
   ]
  },
  {
   "cell_type": "code",
   "execution_count": 13,
   "metadata": {},
   "outputs": [
    {
     "name": "stdout",
     "output_type": "stream",
     "text": [
      "Mahmoud Radwan is 26 years old. He lives in Giza, Egypt\n"
     ]
    }
   ],
   "source": [
    "class Person:\n",
    "  def __init__(self, firstname, lastname, age, country, city):\n",
    "    self.firstname = firstname\n",
    "    self.lastname  = lastname\n",
    "    self.age       = age\n",
    "    self.country   = country\n",
    "    self.city      = city\n",
    "  \n",
    "  def person_info(self):\n",
    "    return f'{self.firstname} {self.lastname} is {self.age} years old. He lives in {self.city}, {self.country}'\n",
    "\n",
    "p = Person('Mahmoud', 'Radwan', 26, 'Egypt', 'Giza')\n",
    "print(p.person_info())"
   ]
  },
  {
   "cell_type": "markdown",
   "metadata": {},
   "source": [
    "- Object Default Methods Sometimes, you may want to have a default values for your object methods. \n",
    "- If we give default values for the parameters in the constructor, we can avoid errors when we call or instantiate our class without parameters. \n",
    "\n",
    "Let's see how it looks:"
   ]
  },
  {
   "cell_type": "code",
   "execution_count": 14,
   "metadata": {},
   "outputs": [
    {
     "ename": "TypeError",
     "evalue": "Person.__init__() missing 2 required positional arguments: 'name' and 'age'",
     "output_type": "error",
     "traceback": [
      "\u001b[31m---------------------------------------------------------------------------\u001b[39m",
      "\u001b[31mTypeError\u001b[39m                                 Traceback (most recent call last)",
      "\u001b[36mCell\u001b[39m\u001b[36m \u001b[39m\u001b[32mIn[14]\u001b[39m\u001b[32m, line 6\u001b[39m\n\u001b[32m      3\u001b[39m         \u001b[38;5;28mself\u001b[39m.name = name\n\u001b[32m      4\u001b[39m         \u001b[38;5;28mself\u001b[39m.age = age\n\u001b[32m----> \u001b[39m\u001b[32m6\u001b[39m p = Person()\n",
      "\u001b[31mTypeError\u001b[39m: Person.__init__() missing 2 required positional arguments: 'name' and 'age'"
     ]
    }
   ],
   "source": [
    "class Person:\n",
    "    def __init__(self, name, age):\n",
    "        self.name = name\n",
    "        self.age = age\n",
    "\n",
    "p = Person()  # ❌ Error"
   ]
  },
  {
   "cell_type": "code",
   "execution_count": 15,
   "metadata": {},
   "outputs": [
    {
     "name": "stdout",
     "output_type": "stream",
     "text": [
      "Unknown 0\n",
      "Ali 25\n"
     ]
    }
   ],
   "source": [
    "class Person:\n",
    "    def __init__(self, name=\"Unknown\", age=0):\n",
    "        self.name = name\n",
    "        self.age = age\n",
    "\n",
    "p1 = Person()\n",
    "print(p1.name, p1.age)           # Unknown 0\n",
    "\n",
    "p2 = Person(\"Ali\", 25)\n",
    "print(p2.name, p2.age)           # Ali 25\n"
   ]
  },
  {
   "cell_type": "markdown",
   "metadata": {},
   "source": [
    "1 - Method to Modify Class Default Values\n",
    "\n",
    "2- In the example below, the person class, all the constructor parameters have default values. \n",
    "\n",
    "3- In addition to that, we have skills parameter,which we can access using a method. Let us create add_skill method to add skills to the skills list."
   ]
  },
  {
   "cell_type": "code",
   "execution_count": 16,
   "metadata": {},
   "outputs": [
    {
     "name": "stdout",
     "output_type": "stream",
     "text": [
      "Unknown 0 []\n"
     ]
    }
   ],
   "source": [
    "class Person:\n",
    "  def __init__(self, name=\"Unknown\", age=0, skills=None):\n",
    "    if skills is None:\n",
    "      skills = []\n",
    "    self.name   = name\n",
    "    self.age    = age\n",
    "    self.skills = skills\n",
    "  \n",
    "  def person_info(self):\n",
    "    return f'My name is {self.name.capitalize()}: \\n→ {self.age} years old, My skills is {self.skills}\\n'\n",
    "  \n",
    "  def add_skill(self, skill):\n",
    "    self.skills.append(skill)\n",
    "\n",
    "p1 = Person()\n",
    "print(p1.name, p1.age, p1.skills)"
   ]
  },
  {
   "cell_type": "code",
   "execution_count": 17,
   "metadata": {},
   "outputs": [
    {
     "name": "stdout",
     "output_type": "stream",
     "text": [
      "My name is Omar: \n",
      "→ 20 years old, My skills is ['Python', 'ML']\n",
      "\n",
      "['HTML', 'CSS', 'JavaScript']\n",
      "['Python', 'ML']\n"
     ]
    }
   ],
   "source": [
    "p1.add_skill('HTML')\n",
    "p1.add_skill('CSS')\n",
    "p1.add_skill('JavaScript')\n",
    "\n",
    "p2 = Person('omar', 20, ['Python', 'ML'])\n",
    "print(p2.person_info())\n",
    "print(p1.skills)\n",
    "print(p2.skills)"
   ]
  },
  {
   "cell_type": "markdown",
   "metadata": {},
   "source": [
    "> ### **Basic Class Syntax**"
   ]
  },
  {
   "cell_type": "code",
   "execution_count": 18,
   "metadata": {},
   "outputs": [
    {
     "name": "stdout",
     "output_type": "stream",
     "text": [
      "Loading data from customers.csv\n",
      "Cleaning data for Customer Data\n",
      "Processor 1 status: True\n",
      "Loading data from sales.csv\n",
      "Processor 2 data: [1, 2, 3, 4, 5]\n"
     ]
    }
   ],
   "source": [
    "class DataProcessor:\n",
    "    \"\"\"A simple data processor for cleaning datasets.\"\"\"\n",
    "    \n",
    "    def __init__(self, dataset_name):\n",
    "        self.dataset_name = dataset_name\n",
    "        self.data         = None\n",
    "        self.is_cleaned   = False\n",
    "    \n",
    "    def load_data(self, filepath):\n",
    "        \"\"\"Load data from a file.\"\"\"\n",
    "        print(f\"Loading data from {filepath}\")\n",
    "        # Simulate data loading\n",
    "        self.data = [1, 2, 3, 4, 5]\n",
    "        return self.data\n",
    "    \n",
    "    def clean_data(self):\n",
    "        \"\"\"Clean the loaded data.\"\"\"\n",
    "        if self.data is None:\n",
    "            raise ValueError(\"No data loaded. Call load_data() first.\")\n",
    "        \n",
    "        print(f\"Cleaning data for {self.dataset_name}\")\n",
    "        # Simulate data cleaning\n",
    "        self.data = [x for x in self.data if x > 0]\n",
    "        self.is_cleaned = True\n",
    "        return self.data\n",
    "\n",
    "# Creating objects (instances)\n",
    "processor1 = DataProcessor(\"Customer Data\")\n",
    "processor2 = DataProcessor(\"Sales Data\")\n",
    "\n",
    "# Using the objects\n",
    "processor1.load_data(\"customers.csv\")\n",
    "processor1.clean_data()\n",
    "print(f\"Processor 1 status: {processor1.is_cleaned}\")\n",
    "\n",
    "processor2.load_data(\"sales.csv\")\n",
    "print(f\"Processor 2 data: {processor2.data}\")"
   ]
  },
  {
   "cell_type": "markdown",
   "metadata": {},
   "source": [
    "> - **Class vs Instance Attributes** : Class attributes are shared by all instances of the class, while instance attributes are unique to each instance."
   ]
  },
  {
   "cell_type": "code",
   "execution_count": 19,
   "metadata": {},
   "outputs": [
    {
     "name": "stdout",
     "output_type": "stream",
     "text": [
      "Created models: 2\n",
      "Model 1 status: Not Trained\n",
      "Training Random Forest model...\n",
      "Model 1 status after training: Trained\n",
      "Model 1 accuracy: 0.95\n"
     ]
    }
   ],
   "source": [
    "class MLModel:\n",
    "    # Class attribute (shared by all instances)             👈👈👈👈👈\n",
    "    model_type = \"Machine Learning Model\"\n",
    "    created_models = 0\n",
    "    \n",
    "    def __init__(self, algorithm, hyperparameters=None):\n",
    "        # Instance attributes (unique to each instance)     👈👈👈👈👈\n",
    "        self.algorithm       = algorithm\n",
    "        self.hyperparameters = hyperparameters or {}\n",
    "        self.is_trained      = False\n",
    "        self.accuracy        = None\n",
    "        \n",
    "        # Update class attribute\n",
    "        MLModel.created_models += 1\n",
    "    \n",
    "    def train(self, X_train, y_train):\n",
    "        \"\"\"Train the model.\"\"\"\n",
    "        print(f\"Training {self.algorithm} model...\")\n",
    "        self.is_trained = True\n",
    "        self.accuracy = 0.95  # Simulated accuracy\n",
    "        return self\n",
    "    \n",
    "    def predict(self, X_test):\n",
    "        \"\"\"Make predictions.\"\"\"\n",
    "        if not self.is_trained:\n",
    "            raise ValueError(\"Model must be trained before making predictions\")\n",
    "        return [1, 0, 1, 0]  # Simulated predictions\n",
    "    \n",
    "    @property           # to help to be easily accessed like an attribute ex: 'model1.status' instead of 'model1.status()'\n",
    "    def status(self):\n",
    "        \"\"\"Get model training status.\"\"\"\n",
    "        return \"Trained\" if self.is_trained else \"Not Trained\"\n",
    "\n",
    "# Usage example\n",
    "model1 = MLModel(\"Random Forest\", {\"n_estimators\": 100})\n",
    "model2 = MLModel(\"SVM\", {\"C\": 1.0, \"kernel\": \"rbf\"})\n",
    "\n",
    "print(f\"Created models: {MLModel.created_models}\")\n",
    "print(f\"Model 1 status: {model1.status}\")\n",
    "\n",
    "# Train and use the model\n",
    "model1.train([], [])  # Simulated training data\n",
    "print(f\"Model 1 status after training: {model1.status}\")\n",
    "print(f\"Model 1 accuracy: {model1.accuracy}\")"
   ]
  },
  {
   "cell_type": "markdown",
   "metadata": {},
   "source": [
    "> - **Attributes and Methods** :"
   ]
  },
  {
   "cell_type": "code",
   "execution_count": 20,
   "metadata": {},
   "outputs": [
    {
     "name": "stdout",
     "output_type": "stream",
     "text": [
      "Shape: (5, 4)\n",
      "Missing data: 15.0%\n",
      "Memory usage: 0.00 MB\n",
      "Numeric columns: ['age', 'income', 'score']\n",
      "Categorical columns: ['category']\n"
     ]
    }
   ],
   "source": [
    "import pandas as pd\n",
    "import numpy as np\n",
    "\n",
    "class Dataset:\n",
    "    def __init__(self, data):\n",
    "        self._data = data\n",
    "    \n",
    "    @property\n",
    "    def shape(self):\n",
    "        \"\"\"Get the shape of the dataset.\"\"\"\n",
    "        return self._data.shape\n",
    "    \n",
    "    @property\n",
    "    def missing_percentage(self):\n",
    "        \"\"\"Calculate percentage of missing values.\"\"\"\n",
    "        total_cells = np.prod(self._data.shape)\n",
    "        missing_cells = self._data.isnull().sum().sum()\n",
    "        return (missing_cells / total_cells) * 100\n",
    "    \n",
    "    @property\n",
    "    def memory_usage(self):\n",
    "        \"\"\"Calculate memory usage in MB.\"\"\"\n",
    "        return self._data.memory_usage(deep=True).sum() / 1024**2\n",
    "    \n",
    "    @property\n",
    "    def numeric_columns(self):\n",
    "        \"\"\"Get list of numeric columns.\"\"\"\n",
    "        return self._data.select_dtypes(include=[np.number]).columns.tolist()\n",
    "    \n",
    "    @property\n",
    "    def categorical_columns(self):\n",
    "        \"\"\"Get list of categorical columns.\"\"\"\n",
    "        return self._data.select_dtypes(include=['object', 'category']).columns.tolist()\n",
    "\n",
    "# Usage\n",
    "data = pd.DataFrame({\n",
    "    'age': [25, 30, np.nan, 35, 40],\n",
    "    'income': [50000, 60000, 55000, np.nan, 70000],\n",
    "    'score': [85, 90, 88, 92, np.nan],\n",
    "    'category': ['A', 'B', 'A', 'C', 'B']\n",
    "})\n",
    "\n",
    "dataset = Dataset(data)\n",
    "print(f\"Shape: {dataset.shape}\")\n",
    "print(f\"Missing data: {dataset.missing_percentage:.1f}%\")\n",
    "print(f\"Memory usage: {dataset.memory_usage:.2f} MB\")\n",
    "print(f\"Numeric columns: {dataset.numeric_columns}\")\n",
    "print(f\"Categorical columns: {dataset.categorical_columns}\")"
   ]
  },
  {
   "cell_type": "markdown",
   "metadata": {},
   "source": [
    "<h1 align=\"center\"> <strong>Decorators</strong> </h1>\n",
    "\n",
    "> ### ✅ 1️⃣ `@classmethod`\n",
    "\n",
    "#### 📘 What It Does:\n",
    "\n",
    "* Makes a method receive the **class (`cls`)** as the first argument instead of the instance (`self`).\n",
    "* Can be used to:\n",
    "\n",
    "  * Access/modify **class-level attributes**.\n",
    "  * Create alternative constructors (like `from_string()`).\n",
    "\n",
    "#### 🧪 Example:"
   ]
  },
  {
   "cell_type": "code",
   "execution_count": 51,
   "metadata": {},
   "outputs": [],
   "source": [
    "class Employee:\n",
    "    raise_amount = 1.04\n",
    "    \n",
    "    @classmethod\n",
    "    def set_raise(cls, amount):\n",
    "        cls.raise_amount = amount"
   ]
  },
  {
   "cell_type": "markdown",
   "metadata": {},
   "source": [
    "#### ✅ Use Case:\n",
    "\n",
    "* Update shared class settings:"
   ]
  },
  {
   "cell_type": "code",
   "execution_count": 52,
   "metadata": {},
   "outputs": [
    {
     "name": "stdout",
     "output_type": "stream",
     "text": [
      "New raise amount: 1.04\n",
      "New raise amount: 1.05\n"
     ]
    }
   ],
   "source": [
    "print(f\"New raise amount: {Employee.raise_amount}\")\n",
    "Employee.set_raise(1.05)\n",
    "print(f\"New raise amount: {Employee.raise_amount}\")"
   ]
  },
  {
   "cell_type": "markdown",
   "metadata": {},
   "source": [
    "> ### 2️⃣ `@staticmethod`\n",
    "\n",
    "#### 📘 What It Does:\n",
    "\n",
    "* Defines a method that doesn't use `self` or `cls`.\n",
    "* Acts like a **regular function**, but it's grouped **inside the class**.\n",
    "\n",
    "#### 🧪 Example:"
   ]
  },
  {
   "cell_type": "code",
   "execution_count": null,
   "metadata": {},
   "outputs": [],
   "source": [
    "class Calendar:\n",
    "    @staticmethod\n",
    "    def is_weekday(day):\n",
    "        return day.weekday() < 5"
   ]
  },
  {
   "cell_type": "markdown",
   "metadata": {},
   "source": [
    "#### ✅ Use Case:\n",
    "\n",
    "* Utility/helper functions logically related to the class but **don’t need access to class or instance**.\n"
   ]
  },
  {
   "cell_type": "markdown",
   "metadata": {},
   "source": [
    "> ### 3️⃣ `@property`\n",
    "\n",
    "#### 📘 What It Does:\n",
    "\n",
    "* Allows you to **access a method like an attribute** — no `()`.\n",
    "* Useful for:\n",
    "\n",
    "  * **Computed attributes**\n",
    "  * **Read-only properties**\n",
    "\n",
    "#### 🧪 Example:"
   ]
  },
  {
   "cell_type": "code",
   "execution_count": 54,
   "metadata": {},
   "outputs": [],
   "source": [
    "class Circle:\n",
    "    def __init__(self, radius):\n",
    "        self.radius = radius\n",
    "    \n",
    "    @property\n",
    "    def area(self):\n",
    "        return 3.14 * self.radius ** 2"
   ]
  },
  {
   "cell_type": "markdown",
   "metadata": {},
   "source": [
    "#### ✅ Usage:\n"
   ]
  },
  {
   "cell_type": "code",
   "execution_count": 55,
   "metadata": {},
   "outputs": [
    {
     "name": "stdout",
     "output_type": "stream",
     "text": [
      "314.0\n"
     ]
    }
   ],
   "source": [
    "c = Circle(10)\n",
    "print(c.area)  # No parentheses!"
   ]
  },
  {
   "cell_type": "markdown",
   "metadata": {},
   "source": [
    "## 🧠 Why Use These Decorators?\n",
    "\n",
    "| Decorator       | Use With        | First Arg | Purpose                                    |\n",
    "| --------------- | --------------- | --------- | ------------------------------------------ |\n",
    "| `@classmethod`  | Class methods   | `cls`     | Access/change class-level data             |\n",
    "| `@staticmethod` | Utility methods | —         | Helper logic related to class, no `self`   |\n",
    "| `@property`     | Getter method   | `self`    | Access method like an attribute (computed) |\n",
    "\n",
    "---\n"
   ]
  },
  {
   "cell_type": "markdown",
   "metadata": {},
   "source": [
    "> ### ✅ Bonus: Combined Decorators (`@property.setter`)\n",
    "\n",
    "You can combine decorators to make attribute-like setters:"
   ]
  },
  {
   "cell_type": "code",
   "execution_count": null,
   "metadata": {},
   "outputs": [],
   "source": [
    "class Temperature:\n",
    "    def __init__(self, celsius):\n",
    "        self._celsius = celsius\n",
    "    \n",
    "    @property\n",
    "    def fahrenheit(self):\n",
    "        return self._celsius * 9/5 + 32\n",
    "    \n",
    "    @fahrenheit.setter\n",
    "    def fahrenheit(self, value):\n",
    "        self._celsius = (value - 32) * 5/9"
   ]
  },
  {
   "cell_type": "markdown",
   "metadata": {},
   "source": [
    "## ✅ Summary: When to Use What?\n",
    "\n",
    "| Situation                                           | Use             |\n",
    "| --------------------------------------------------- | --------------- |\n",
    "| Need to update a shared value for class             | `@classmethod`  |\n",
    "| Need a clean helper function inside class           | `@staticmethod` |\n",
    "| Want method-like logic but accessed like a variable | `@property`     |"
   ]
  },
  {
   "cell_type": "markdown",
   "metadata": {},
   "source": [
    "<h1 align=\"center\"> <strong>Encapsulation</strong> </h1>\n",
    "\n",
    "Encapsulation is the bundling of data and methods that operate on that data within one unit, or class. It restricts direct access to some of an object's components, which can prevent the accidental modification of data.\n",
    "\n",
    "Python Access Modifiers:\n",
    "- **Public** : Public members are accessible from outside the class. By default, all members of a class are public.\n",
    "- **Protected** : Protected members are accessible within the class and its subclasses. They are den\n",
    "oted by a single underscore prefix (e.g., `_protected_member`).\n",
    "- **Private** : Private members are accessible only within the class itself. They are denoted by a double underscore prefix (e.g., `__private_member`)."
   ]
  },
  {
   "cell_type": "code",
   "execution_count": 21,
   "metadata": {},
   "outputs": [
    {
     "name": "stdout",
     "output_type": "stream",
     "text": [
      "Fitting pipeline: Feature Engineering Pipeline\n",
      "  Fitting step: scaler\n",
      "  Fitting step: pca\n",
      "Transforming data with 2 steps\n",
      "Results: {'fit_time': 0.5, 'n_steps': 2}\n",
      "Steps (protected): 2\n"
     ]
    }
   ],
   "source": [
    "class DataPipeline:\n",
    "    def __init__(self, name):\n",
    "        self.name = name                    # Public\n",
    "        self._steps = []                    # Protected\n",
    "        self.__fitted = False               # Private\n",
    "        self.__results = None               # Private\n",
    "    \n",
    "    def add_step(self, step_name, transformer):\n",
    "        \"\"\"Add a processing step to the pipeline.\"\"\"\n",
    "        self._steps.append({\n",
    "            'name': step_name,\n",
    "            'transformer': transformer,\n",
    "            'fitted': False\n",
    "        })\n",
    "    \n",
    "    def _validate_data(self, data):\n",
    "        \"\"\"Protected method for data validation.\"\"\"\n",
    "        if data is None:\n",
    "            raise ValueError(\"Data cannot be None\")\n",
    "        if len(data) == 0:\n",
    "            raise ValueError(\"Data cannot be empty\")\n",
    "        return True\n",
    "    \n",
    "    def fit(self, X, y=None):\n",
    "        \"\"\"Fit the pipeline on training data.\"\"\"\n",
    "        self._validate_data(X)\n",
    "        \n",
    "        print(f\"Fitting pipeline: {self.name}\")\n",
    "        for step in self._steps:\n",
    "            print(f\"  Fitting step: {step['name']}\")\n",
    "            step['fitted'] = True\n",
    "        \n",
    "        self.__fitted = True\n",
    "        self.__results = {\"fit_time\": 0.5, \"n_steps\": len(self._steps)}\n",
    "        return self\n",
    "    \n",
    "    def transform(self, X):\n",
    "        \"\"\"Transform data using fitted pipeline.\"\"\"\n",
    "        if not self.__fitted:\n",
    "            raise ValueError(\"Pipeline must be fitted before transform\")\n",
    "        \n",
    "        self._validate_data(X)\n",
    "        \n",
    "        print(f\"Transforming data with {len(self._steps)} steps\")\n",
    "        # Simulate transformation\n",
    "        return X\n",
    "    \n",
    "    def get_results(self):\n",
    "        \"\"\"Get pipeline results (controlled access to private data).\"\"\"\n",
    "        if not self.__fitted:\n",
    "            return {\"status\": \"not_fitted\"}\n",
    "        return self.__results.copy()  # Return copy to prevent modification\n",
    "\n",
    "# Usage example\n",
    "pipeline = DataPipeline(\"Feature Engineering Pipeline\")\n",
    "pipeline.add_step(\"scaler\", \"StandardScaler\")\n",
    "pipeline.add_step(\"pca\", \"PCA\")\n",
    "\n",
    "# This works - public interface\n",
    "data = [[1, 2, 3], [4, 5, 6]]\n",
    "pipeline.fit(data)\n",
    "transformed = pipeline.transform(data)\n",
    "results = pipeline.get_results()\n",
    "\n",
    "print(f\"Results: {results}\")\n",
    "\n",
    "# Protected attributes can be accessed but shouldn't be\n",
    "print(f\"Steps (protected): {len(pipeline._steps)}\")\n",
    "\n",
    "## Private attributes are name-mangled (avoid accessing)\n",
    "# print(pipeline.__fitted)          # This would raise AttributeError\n",
    "\n",
    "## But you can still access via name mangling (not recommended):\n",
    "# print(pipeline._DataPipeline__fitted)"
   ]
  },
  {
   "cell_type": "markdown",
   "metadata": {},
   "source": [
    "<h1 align=\"center\"> <strong>Inheritance</strong> </h1>\n",
    "\n",
    "```md\n",
    "1- Using inheritance we can reuse parent class code. \n",
    "\n",
    "2- Inheritance allows us to define a class that inherits all the methods and properties from parent class. \n",
    "\n",
    "3- The parent class or super or base class is the class which gives all the methods and properties. \n",
    "\n",
    "4- Child class is the class that inherits from another or parent class. \n",
    "\n",
    "Let us create a student class by inheriting from person class.\n",
    "```"
   ]
  },
  {
   "cell_type": "code",
   "execution_count": 23,
   "metadata": {},
   "outputs": [
    {
     "name": "stdout",
     "output_type": "stream",
     "text": [
      "My name is Ahmed: \n",
      "→ 30 years old, My skills is ['python', 'ML']\n",
      "\n",
      "['python', 'ML', 'JavaScript', 'React']\n",
      "==================================================\n",
      "My name is Mostafa: \n",
      "→ 28 years old, My skills is ['c++ , DL']\n",
      "\n",
      "['c++ , DL', 'Organizing', 'Marketing', 'Digital Marketing']\n"
     ]
    }
   ],
   "source": [
    "class Person:\n",
    "    def __init__(self, name=\"Unknown\", age=0, skills=None):\n",
    "        if skills is None:\n",
    "            skills = []\n",
    "        self.name   = name\n",
    "        self.age    = age\n",
    "        self.skills = skills\n",
    "    \n",
    "    def person_info(self):\n",
    "        return f'My name is {self.name.capitalize()}: \\n→ {self.age} years old, My skills is {self.skills}\\n'\n",
    "    \n",
    "    def add_skill(self, skill):\n",
    "        self.skills.append(skill)\n",
    "\n",
    "# student class is the class that inherits from person class\n",
    "class Student(Person):\n",
    "    pass\n",
    "\n",
    "s1 = Student('Ahmed', 30, [\"python\",\"ML\"])\n",
    "s2 = Student('Mostafa', 28, [\"c++ , DL\"])\n",
    "print(s1.person_info())\n",
    "\n",
    "s1.add_skill('JavaScript')\n",
    "s1.add_skill('React')\n",
    "print(s1.skills)\n",
    "print(\"=\"*50)\n",
    "\n",
    "print(s2.person_info())\n",
    "s2.add_skill('Organizing')\n",
    "s2.add_skill('Marketing')\n",
    "s2.add_skill('Digital Marketing')\n",
    "print(s2.skills)"
   ]
  },
  {
   "cell_type": "markdown",
   "metadata": {},
   "source": [
    "> #### 1️⃣ If We Do **Not** Define `__init__()` in the Child Class\n",
    "\n",
    "* The child automatically **inherits** the parent’s `__init__()`.\n",
    "* All attributes initialized in the parent are available in the child without extra work.\n",
    "\n",
    "**Example:**"
   ]
  },
  {
   "cell_type": "code",
   "execution_count": 24,
   "metadata": {},
   "outputs": [
    {
     "name": "stdout",
     "output_type": "stream",
     "text": [
      "Ahmed\n"
     ]
    }
   ],
   "source": [
    "class Parent:\n",
    "    def __init__(self):\n",
    "        self.name = \"Ahmed\"\n",
    "\n",
    "class Child(Parent):\n",
    "    pass  # No __init__ defined\n",
    "\n",
    "c = Child()\n",
    "print(c.name)  # ✅ Outputs: Ahmed"
   ]
  },
  {
   "cell_type": "markdown",
   "metadata": {},
   "source": [
    "> #### 2️⃣ If We **Do** Define `__init__()` in the Child Class\n",
    "\n",
    "* If you **define** `__init__()` in the child, it **replaces** the parent's `__init__()`.\n",
    "* The child no longer gets the parent’s attributes automatically.\n",
    "* To keep the parent’s initialization, you **must** call it explicitly:\n",
    "\n",
    "✅ **Recommended way:**\n",
    "\n",
    "```python\n",
    "super().__init__()\n",
    "```\n",
    "\n",
    "✅ **Alternative:**\n",
    "\n",
    "```python\n",
    "ParentClass.__init__(self, ...)\n",
    "```\n",
    "\n",
    "**Example with `super()`:**"
   ]
  },
  {
   "cell_type": "code",
   "execution_count": 25,
   "metadata": {},
   "outputs": [
    {
     "name": "stdout",
     "output_type": "stream",
     "text": [
      "Ahmed\n",
      "20\n"
     ]
    }
   ],
   "source": [
    "class Parent:\n",
    "    def __init__(self):\n",
    "        self.name = \"Ahmed\"\n",
    "\n",
    "class Child(Parent):\n",
    "    def __init__(self):\n",
    "        super().__init__()  # ✅ Calls Parent's __init__()\n",
    "        self.age = 20\n",
    "\n",
    "c = Child()\n",
    "print(c.name)  # ✅ Ahmed\n",
    "print(c.age)   # ✅ 20"
   ]
  },
  {
   "cell_type": "markdown",
   "metadata": {},
   "source": [
    "> #### 3️⃣ Adding or Overriding Methods in the Child\n",
    "\n",
    "* You can **add new methods** to the child that don’t exist in the parent.\n",
    "* You can **override** a parent method by defining it with the same name in the child.\n",
    "\n",
    "**Example:**"
   ]
  },
  {
   "cell_type": "code",
   "execution_count": 26,
   "metadata": {},
   "outputs": [
    {
     "name": "stdout",
     "output_type": "stream",
     "text": [
      "Hello from Child\n"
     ]
    }
   ],
   "source": [
    "class Parent:\n",
    "    def greet(self):\n",
    "        print(\"Hello from Parent\")\n",
    "\n",
    "class Child(Parent):\n",
    "    def greet(self):  # ✅ Overrides Parent's method\n",
    "        print(\"Hello from Child\")\n",
    "\n",
    "c = Child()\n",
    "c.greet()  # ✅ Hello from Child"
   ]
  },
  {
   "cell_type": "code",
   "execution_count": 28,
   "metadata": {},
   "outputs": [
    {
     "name": "stdout",
     "output_type": "stream",
     "text": [
      "He says Hello!\n",
      "She says Hello!\n"
     ]
    }
   ],
   "source": [
    "class Person:\n",
    "    def __init__(self, name, gender):\n",
    "        self.name = name\n",
    "        self.gender = gender\n",
    "    \n",
    "    def greet(self):\n",
    "        print(f\"{self.name} says Hello!\")\n",
    "\n",
    "class Student(Person):\n",
    "    def greet(self):  # Overrides parent's greet\n",
    "        pronoun = \"He\" if self.gender == \"male\" else \"She\"\n",
    "        print(f\"{pronoun} says Hello!\")\n",
    "\n",
    "s1 = Student(\"Ali\", \"male\")\n",
    "s2 = Student(\"Sara\", \"female\")\n",
    "\n",
    "s1.greet()  # ➜ He says Hello!\n",
    "s2.greet()  # ➜ She says Hello!"
   ]
  },
  {
   "cell_type": "markdown",
   "metadata": {},
   "source": [
    "> #### 4️⃣ Adding `__init__()` in the Child Breaks Automatic Inheritance of Parent’s `__init__()`\n",
    "* If the child defines its own `__init__()`, **it no longer runs the parent's `__init__()`** automatically.\n",
    "* You **must** call `super().__init__()` manually if you want the parent's initialization.\n",
    "\n",
    "**Example without super():**"
   ]
  },
  {
   "cell_type": "code",
   "execution_count": 27,
   "metadata": {},
   "outputs": [
    {
     "name": "stdout",
     "output_type": "stream",
     "text": [
      "20\n"
     ]
    },
    {
     "ename": "AttributeError",
     "evalue": "'Child' object has no attribute 'name'",
     "output_type": "error",
     "traceback": [
      "\u001b[31m---------------------------------------------------------------------------\u001b[39m",
      "\u001b[31mAttributeError\u001b[39m                            Traceback (most recent call last)",
      "\u001b[36mCell\u001b[39m\u001b[36m \u001b[39m\u001b[32mIn[27]\u001b[39m\u001b[32m, line 11\u001b[39m\n\u001b[32m      9\u001b[39m c = Child()\n\u001b[32m     10\u001b[39m \u001b[38;5;28mprint\u001b[39m(c.age)      \u001b[38;5;66;03m# ✅ 20\u001b[39;00m\n\u001b[32m---> \u001b[39m\u001b[32m11\u001b[39m \u001b[38;5;28mprint\u001b[39m(c.name)\n",
      "\u001b[31mAttributeError\u001b[39m: 'Child' object has no attribute 'name'"
     ]
    }
   ],
   "source": [
    "class Parent:\n",
    "    def __init__(self):\n",
    "        self.name = \"Ahmed\"\n",
    "\n",
    "class Child(Parent):\n",
    "    def __init__(self):\n",
    "        self.age = 20  # ⚠️ Parent's __init__ is not called\n",
    "\n",
    "c = Child()\n",
    "print(c.age)      # ✅ 20\n",
    "print(c.name)     # ❌ Error: AttributeError"
   ]
  },
  {
   "cell_type": "markdown",
   "metadata": {},
   "source": [
    "> ### **Example**"
   ]
  },
  {
   "cell_type": "code",
   "execution_count": 29,
   "metadata": {},
   "outputs": [
    {
     "name": "stdout",
     "output_type": "stream",
     "text": [
      "Preparing data for Linear Regression\n",
      "Training Linear Regression with regularization: ridge\n",
      "Preparing data for Random Forest\n",
      "Training Random Forest with 50 trees\n",
      "Linear Regression Results: {'accuracy': 0.0, 'model': 'Linear Regression'}\n",
      "Random Forest Results: {'accuracy': 0.0, 'model': 'Random Forest'}\n",
      "Feature importance: {'feature_0': 0.4, 'feature_1': 0.6}\n",
      "LR Training History: [{'samples': 4, 'features': 2}]\n",
      "RF Training History: [{'samples': 4, 'features': 2, 'trees': 50}]\n"
     ]
    }
   ],
   "source": [
    "class BaseModel:\n",
    "    \"\"\"Base class for all machine learning models.\"\"\"\n",
    "    \n",
    "    def __init__(self, name):\n",
    "        self.name = name\n",
    "        self.is_trained = False\n",
    "        self.training_history = []\n",
    "    \n",
    "    def prepare_data(self, X, y=None):\n",
    "        \"\"\"Prepare data for training (can be overridden).\"\"\"\n",
    "        print(f\"Preparing data for {self.name}\")\n",
    "        # Default implementation\n",
    "        return X, y\n",
    "    \n",
    "    def evaluate(self, X_test, y_test):\n",
    "        \"\"\"Evaluate model performance.\"\"\"\n",
    "        if not self.is_trained:\n",
    "            raise ValueError(\"Model must be trained before evaluation\")\n",
    "        \n",
    "        predictions = self.predict(X_test)\n",
    "        accuracy = sum(1 for i, j in zip(y_test, predictions) if i == j) / len(y_test)\n",
    "        return {'accuracy': accuracy, 'model': self.name}\n",
    "    \n",
    "    def save_model(self, filepath):\n",
    "        \"\"\"Save model to file.\"\"\"\n",
    "        print(f\"Saving {self.name} to {filepath}\")\n",
    "        # Implementation would save model state\n",
    "\n",
    "class LinearRegressionModel(BaseModel):\n",
    "    \"\"\"Linear Regression implementation.\"\"\"\n",
    "    \n",
    "    def __init__(self, regularization=None):\n",
    "        super().__init__(\"Linear Regression\")\n",
    "        self.regularization = regularization\n",
    "        self.coefficients = None\n",
    "        self.intercept = None\n",
    "    \n",
    "    def train(self, X, y):\n",
    "        \"\"\"Train the linear regression model.\"\"\"\n",
    "        X, y = self.prepare_data(X, y)  # Use inherited method\n",
    "        \n",
    "        print(f\"Training {self.name} with regularization: {self.regularization}\")\n",
    "        # Simulate training\n",
    "        self.coefficients = [0.5] * len(X[0]) if X else []\n",
    "        self.intercept = 0.1\n",
    "        self.is_trained = True\n",
    "        \n",
    "        self.training_history.append({\n",
    "            'samples': len(X),\n",
    "            'features': len(X[0]) if X else 0\n",
    "        })\n",
    "        return self\n",
    "    \n",
    "    def predict(self, X):\n",
    "        \"\"\"Make predictions.\"\"\"\n",
    "        if not self.is_trained:\n",
    "            raise ValueError(\"Model must be trained first\")\n",
    "        \n",
    "        # Simplified prediction\n",
    "        return [sum(x) * 0.1 + self.intercept for x in X]\n",
    "\n",
    "class RandomForestModel(BaseModel):\n",
    "    \"\"\"Random Forest implementation.\"\"\"\n",
    "    \n",
    "    def __init__(self, n_estimators=100, max_depth=None):\n",
    "        super().__init__(\"Random Forest\")\n",
    "        self.n_estimators = n_estimators\n",
    "        self.max_depth = max_depth\n",
    "        self.trees = []\n",
    "    \n",
    "    def train(self, X, y):\n",
    "        \"\"\"Train the random forest model.\"\"\"\n",
    "        X, y = self.prepare_data(X, y)\n",
    "        \n",
    "        print(f\"Training {self.name} with {self.n_estimators} trees\")\n",
    "        # Simulate training multiple trees\n",
    "        self.trees = [f\"tree_{i}\" for i in range(self.n_estimators)]\n",
    "        self.is_trained = True\n",
    "        \n",
    "        self.training_history.append({\n",
    "            'samples': len(X),\n",
    "            'features': len(X[0]) if X else 0,\n",
    "            'trees': self.n_estimators\n",
    "        })\n",
    "        return self\n",
    "    \n",
    "    def predict(self, X):\n",
    "        \"\"\"Make predictions using ensemble of trees.\"\"\"\n",
    "        if not self.is_trained:\n",
    "            raise ValueError(\"Model must be trained first\")\n",
    "        \n",
    "        # Simplified ensemble prediction\n",
    "        return [1 if sum(x) > 5 else 0 for x in X]\n",
    "    \n",
    "    def get_feature_importance(self):\n",
    "        \"\"\"Get feature importance (specific to Random Forest).\"\"\"\n",
    "        if not self.is_trained:\n",
    "            raise ValueError(\"Model must be trained first\")\n",
    "        \n",
    "        # Simulate feature importance\n",
    "        return {\"feature_0\": 0.4, \"feature_1\": 0.6}\n",
    "\n",
    "# Usage example\n",
    "training_data = [[1, 2], [3, 4], [5, 6], [7, 8]]\n",
    "target_data = [0, 1, 0, 1]\n",
    "test_data = [[2, 3], [4, 5]]\n",
    "test_targets = [1, 0]\n",
    "\n",
    "# Create and train models\n",
    "lr_model = LinearRegressionModel(regularization=\"ridge\")\n",
    "rf_model = RandomForestModel(n_estimators=50, max_depth=10)\n",
    "\n",
    "lr_model.train(training_data, target_data)\n",
    "rf_model.train(training_data, target_data)\n",
    "\n",
    "# Use inherited methods\n",
    "lr_results = lr_model.evaluate(test_data, test_targets)\n",
    "rf_results = rf_model.evaluate(test_data, test_targets)\n",
    "\n",
    "print(f\"Linear Regression Results: {lr_results}\")\n",
    "print(f\"Random Forest Results: {rf_results}\")\n",
    "\n",
    "# Use specific methods\n",
    "rf_importance = rf_model.get_feature_importance()\n",
    "print(f\"Feature importance: {rf_importance}\")\n",
    "\n",
    "# Check training history (inherited attribute)\n",
    "print(f\"LR Training History: {lr_model.training_history}\")\n",
    "print(f\"RF Training History: {rf_model.training_history}\")"
   ]
  },
  {
   "cell_type": "markdown",
   "metadata": {},
   "source": [
    "<h1 align=\"center\"> <strong>Polymorphism</strong> </h1>\n",
    "\n",
    "* **Polymorphism** means **“many forms.”**\n",
    "* In OOP, it allows **one interface** (e.g., method name) to work with **different types** of objects.\n",
    "* It makes code more **flexible** and **extensible**.\n",
    "\n",
    "✅ **Key idea:**\n",
    "\n",
    "> Different classes can define the *same* method name in *different ways*.\n",
    "\n",
    "---\n",
    "\n",
    "#### ✅ **Why Use Polymorphism?**\n",
    "\n",
    "* Write **generic** code that works with many types.\n",
    "* Avoid checking object types manually.\n",
    "* Make systems **easier to extend**.\n",
    "\n",
    "---\n",
    "\n",
    "#### ✅ **Simple Example**\n",
    "\n",
    "Suppose you have different shapes that all have an `area()` method:"
   ]
  },
  {
   "cell_type": "code",
   "execution_count": null,
   "metadata": {},
   "outputs": [
    {
     "name": "stdout",
     "output_type": "stream",
     "text": [
      "78.5\n",
      "200\n",
      "78.5\n",
      "200\n"
     ]
    }
   ],
   "source": [
    "class Circle:\n",
    "    def area(self):\n",
    "        return 3.14 * 5 * 5\n",
    "\n",
    "class Rectangle:\n",
    "    def area(self):\n",
    "        return 10 * 20\n",
    "\n",
    "# ex:\n",
    "circle = Circle()\n",
    "rectangle = Rectangle()\n",
    "print(circle.area())      # ➜ 78.5\n",
    "print(rectangle.area())   # ➜ 200"
   ]
  },
  {
   "cell_type": "markdown",
   "metadata": {},
   "source": [
    "#### ✅ **Polymorphism in action:**"
   ]
  },
  {
   "cell_type": "code",
   "execution_count": 34,
   "metadata": {},
   "outputs": [
    {
     "name": "stdout",
     "output_type": "stream",
     "text": [
      "78.5\n",
      "200\n"
     ]
    }
   ],
   "source": [
    "shapes = [Circle(), Rectangle()]\n",
    "\n",
    "for shape in shapes:\n",
    "    print(shape.area())"
   ]
  },
  {
   "cell_type": "markdown",
   "metadata": {},
   "source": [
    "* Both objects have **area()**.\n",
    "* The loop doesn’t care *which* class it is — it just calls `area()`.\n"
   ]
  },
  {
   "cell_type": "markdown",
   "metadata": {},
   "source": [
    "> #### ✅ **Polymorphism with Inheritance**\n",
    "\n",
    "You can also get polymorphism through **inheritance and overriding**:\n"
   ]
  },
  {
   "cell_type": "code",
   "execution_count": 35,
   "metadata": {},
   "outputs": [],
   "source": [
    "class Animal:\n",
    "    def speak(self):\n",
    "        print(\"Some generic animal sound\")\n",
    "\n",
    "class Dog(Animal):\n",
    "    def speak(self):\n",
    "        print(\"Woof!\")\n",
    "\n",
    "class Cat(Animal):\n",
    "    def speak(self):\n",
    "        print(\"Meow!\")"
   ]
  },
  {
   "cell_type": "markdown",
   "metadata": {},
   "source": [
    "#### ✅ Usage:\n"
   ]
  },
  {
   "cell_type": "code",
   "execution_count": 36,
   "metadata": {},
   "outputs": [
    {
     "name": "stdout",
     "output_type": "stream",
     "text": [
      "Woof!\n",
      "Meow!\n"
     ]
    }
   ],
   "source": [
    "animals = [Dog(), Cat()]\n",
    "\n",
    "for animal in animals:\n",
    "    animal.speak()"
   ]
  },
  {
   "cell_type": "markdown",
   "metadata": {},
   "source": [
    "* Both `Dog` and `Cat` are **Animal**.\n",
    "* Both have **speak()**, but behave differently.\n"
   ]
  },
  {
   "cell_type": "markdown",
   "metadata": {},
   "source": [
    "> #### ✅ **Polymorphism with Functions**\n",
    "\n",
    "You can write functions that work with any object that has a certain method:\n"
   ]
  },
  {
   "cell_type": "code",
   "execution_count": 37,
   "metadata": {},
   "outputs": [
    {
     "name": "stdout",
     "output_type": "stream",
     "text": [
      "Woof!\n",
      "Meow!\n"
     ]
    }
   ],
   "source": [
    "def make_it_speak(animal):\n",
    "    animal.speak()\n",
    "\n",
    "make_it_speak(Dog())  # Woof!\n",
    "make_it_speak(Cat())  # Meow!"
   ]
  },
  {
   "cell_type": "markdown",
   "metadata": {},
   "source": [
    "> No need to know the exact type — **just that it has `speak()`**.\n",
    "\n",
    "---\n",
    "\n",
    "## ✅ **Quick Summary Table**\n",
    "\n",
    "| Concept          | Explanation                               | Example                      |\n",
    "| ---------------- | ----------------------------------------- | ---------------------------- |\n",
    "| **Polymorphism** | Same interface, different implementations | `speak()` in `Dog`, `Cat`    |\n",
    "| **Benefit**      | Code works with many types seamlessly     | Loops over different objects |\n",
    "| **How?**         | Method overriding, shared method names    | Inheritance, duck typing     |\n",
    "\n",
    "---\n",
    "\n",
    "✅ **Key Takeaway:**\n",
    "\n",
    "> **Polymorphism** lets you write flexible, reusable code that can work with different object types sharing a common interface.\n"
   ]
  },
  {
   "cell_type": "markdown",
   "metadata": {},
   "source": [
    "> ### **Example**"
   ]
  },
  {
   "cell_type": "code",
   "execution_count": 39,
   "metadata": {},
   "outputs": [
    {
     "name": "stdout",
     "output_type": "stream",
     "text": [
      "\n",
      "--- Training Linear Regression ---\n",
      "Preparing data for Linear Regression\n",
      "Training Linear Regression with regularization: None\n",
      "✅ Linear Regression trained successfully!\n",
      "📊 Results: {'accuracy': 0.0, 'model': 'Linear Regression'}\n",
      "\n",
      "--- Training Logistic Regression ---\n",
      "Preparing data for Logistic Regression\n",
      "Training Logistic Regression with gradient descent...\n",
      "✅ Logistic Regression trained successfully!\n",
      "📊 Results: {'accuracy': 0.6, 'model': 'Logistic Regression'}\n",
      "\n",
      "--- Training Random Forest ---\n",
      "Preparing data for Random Forest\n",
      "Training Random Forest with 50 trees\n",
      "✅ Random Forest trained successfully!\n",
      "📊 Results: {'accuracy': 0.4, 'model': 'Random Forest'}\n",
      "\n",
      "--- Training SVM (linear) ---\n",
      "Preparing data for SVM (linear)\n",
      "Training SVM (linear) with linear kernel...\n",
      "✅ SVM (linear) trained successfully!\n",
      "📊 Results: {'accuracy': 0.6, 'model': 'SVM (linear)'}\n",
      "\n",
      "🏆 Model Comparison:\n",
      "--------------------------------------------------\n",
      "1. Logistic Regression: 0.600\n",
      "2. SVM (linear): 0.600\n",
      "3. Random Forest: 0.400\n",
      "4. Linear Regression: 0.000\n",
      "\n",
      "🥇 Best performing model: Logistic Regression\n"
     ]
    }
   ],
   "source": [
    "class ModelTrainer:\n",
    "    \"\"\"Trains and evaluates different types of models.\"\"\"\n",
    "    \n",
    "    def __init__(self):\n",
    "        self.trained_models = []\n",
    "        self.results = {}\n",
    "    \n",
    "    def train_model(self, model, X_train, y_train, X_test, y_test):\n",
    "        \"\"\"Train any model that follows the common interface.\"\"\"\n",
    "        print(f\"\\n--- Training {model.name} ---\")\n",
    "        \n",
    "        # All models have the same interface (polymorphism)\n",
    "        model.train(X_train, y_train)\n",
    "        predictions = model.predict(X_test)\n",
    "        results = model.evaluate(X_test, y_test)\n",
    "        \n",
    "        self.trained_models.append(model)\n",
    "        self.results[model.name] = results\n",
    "        \n",
    "        print(f\"✅ {model.name} trained successfully!\")\n",
    "        print(f\"📊 Results: {results}\")\n",
    "        \n",
    "        return results\n",
    "    \n",
    "    def compare_models(self):\n",
    "        \"\"\"Compare all trained models.\"\"\"\n",
    "        print(\"\\n🏆 Model Comparison:\")\n",
    "        print(\"-\" * 50)\n",
    "        \n",
    "        sorted_models = sorted(\n",
    "            self.results.items(), \n",
    "            key=lambda x: x[1]['accuracy'], \n",
    "            reverse=True\n",
    "        )\n",
    "        \n",
    "        for rank, (name, results) in enumerate(sorted_models, 1):\n",
    "            print(f\"{rank}. {name}: {results['accuracy']:.3f}\")\n",
    "        \n",
    "        if sorted_models:\n",
    "            best_model = sorted_models[0][0]\n",
    "            print(f\"\\n🥇 Best performing model: {best_model}\")\n",
    "            return best_model\n",
    "\n",
    "# Different model implementations with same interface\n",
    "class LogisticRegression(BaseModel):\n",
    "    def __init__(self):\n",
    "        super().__init__(\"Logistic Regression\")\n",
    "        self.weights = None\n",
    "    \n",
    "    def train(self, X, y):\n",
    "        X, y = self.prepare_data(X, y)\n",
    "        print(f\"Training {self.name} with gradient descent...\")\n",
    "        self.weights = [0.3] * len(X[0]) if X else []\n",
    "        self.is_trained = True\n",
    "        return self\n",
    "    \n",
    "    def predict(self, X):\n",
    "        if not self.is_trained:\n",
    "            raise ValueError(\"Model must be trained first\")\n",
    "        # Simplified logistic prediction\n",
    "        return [1 if sum(x) > 3 else 0 for x in X]\n",
    "\n",
    "class SupportVectorMachine(BaseModel):\n",
    "    def __init__(self, kernel='rbf'):\n",
    "        super().__init__(f\"SVM ({kernel})\")\n",
    "        self.kernel = kernel\n",
    "        self.support_vectors = None\n",
    "    \n",
    "    def train(self, X, y):\n",
    "        X, y = self.prepare_data(X, y)\n",
    "        print(f\"Training {self.name} with {self.kernel} kernel...\")\n",
    "        self.support_vectors = X[:3]  # Simplified\n",
    "        self.is_trained = True\n",
    "        return self\n",
    "    \n",
    "    def predict(self, X):\n",
    "        if not self.is_trained:\n",
    "            raise ValueError(\"Model must be trained first\")\n",
    "        # Simplified SVM prediction\n",
    "        return [0 if sum(x) < 4 else 1 for x in X]\n",
    "\n",
    "# Polymorphism in action\n",
    "trainer = ModelTrainer()\n",
    "\n",
    "# Create different models\n",
    "models = [\n",
    "    LinearRegressionModel(),\n",
    "    LogisticRegression(),\n",
    "    RandomForestModel(n_estimators=50),\n",
    "    SupportVectorMachine(kernel='linear')\n",
    "]\n",
    "\n",
    "# Generate sample data\n",
    "training_data = [[1, 2], [3, 4], [5, 6], [7, 8], [9, 10]]\n",
    "training_labels = [0, 1, 0, 1, 0]\n",
    "test_data = [[2, 3], [4, 5], [6, 7], [8, 9], [10, 11]]\n",
    "test_labels = [1, 0, 1, 0, 1]\n",
    "\n",
    "# Train all models using the same interface (polymorphism)\n",
    "for model in models:\n",
    "    trainer.train_model(model, training_data, training_labels, test_data, test_labels)\n",
    "\n",
    "# Compare all models\n",
    "best_model = trainer.compare_models()"
   ]
  },
  {
   "cell_type": "markdown",
   "metadata": {},
   "source": [
    "<h1 align=\"center\"> <strong>Special Methods (Magic Methods)</strong> </h1>\n",
    "\n",
    "#### ✅ **What Are Special / Magic Methods?**\n",
    "\n",
    "* **Special methods** (also called **magic methods** or **dunder methods** because they have **double underscores** `__` on both sides) are built-in hooks that let your objects **behave like built-in types**.\n",
    "\n",
    "#### ✅ Examples of their names:\n",
    "\n",
    "```\n",
    "__init__, __str__, __len__, __add__, ...\n",
    "```\n",
    "\n",
    "---\n",
    "\n",
    "#### ✅ **Why Use Them?**\n",
    "\n",
    "* To customize how your objects behave with **built-in operations**:\n",
    "\n",
    "  * Printing\n",
    "  * Adding\n",
    "  * Comparing\n",
    "  * Getting length\n",
    "  * Indexing\n",
    "* Make your class act more **Pythonic** and intuitive.\n",
    "\n",
    "---\n",
    "\n",
    "#### ✅ **Common Magic Methods with Examples**\n",
    "\n",
    "---\n",
    "\n",
    "> #### 1️⃣ `__init__`\n",
    "\n",
    "Called when creating a new object (constructor).\n"
   ]
  },
  {
   "cell_type": "code",
   "execution_count": 42,
   "metadata": {},
   "outputs": [
    {
     "name": "stdout",
     "output_type": "stream",
     "text": [
      "Ali\n"
     ]
    }
   ],
   "source": [
    "class Person:\n",
    "    def __init__(self, name):\n",
    "        self.name = name\n",
    "\n",
    "p = Person(\"Ali\")\n",
    "print(p.name)  # ➜ Ali"
   ]
  },
  {
   "cell_type": "markdown",
   "metadata": {},
   "source": [
    "> #### 2️⃣ `__str__`\n",
    "\n",
    "Called by `str()` and `print()` to get a readable string.\n"
   ]
  },
  {
   "cell_type": "code",
   "execution_count": null,
   "metadata": {},
   "outputs": [
    {
     "name": "stdout",
     "output_type": "stream",
     "text": [
      "Person: Ali\n"
     ]
    }
   ],
   "source": [
    "class Person:\n",
    "    def __init__(self, name):\n",
    "        self.name = name\n",
    "    \n",
    "    def __str__(self):\n",
    "        return f\"Person: {self.name}\"\n",
    "\n",
    "p = Person(\"Ali\")\n",
    "print(p)  # ➜ Person: Ali"
   ]
  },
  {
   "cell_type": "markdown",
   "metadata": {},
   "source": [
    "> #### 3️⃣ `__repr__`\n",
    "\n",
    "Called by `repr()`, interactive console, debugging."
   ]
  },
  {
   "cell_type": "code",
   "execution_count": 44,
   "metadata": {},
   "outputs": [
    {
     "name": "stdout",
     "output_type": "stream",
     "text": [
      "Person() object\n"
     ]
    }
   ],
   "source": [
    "class Person:\n",
    "    def __repr__(self):\n",
    "        return \"Person() object\"\n",
    "\n",
    "print(repr(Person()))  # ➜ Person() object"
   ]
  },
  {
   "cell_type": "markdown",
   "metadata": {},
   "source": [
    "> #### 4️⃣ `__len__`\n",
    "\n",
    "Lets you use `len()` on your object."
   ]
  },
  {
   "cell_type": "code",
   "execution_count": null,
   "metadata": {},
   "outputs": [
    {
     "name": "stdout",
     "output_type": "stream",
     "text": [
      "2\n"
     ]
    }
   ],
   "source": [
    "class Team:\n",
    "    def __init__(self, members):\n",
    "        self.members = members\n",
    "    \n",
    "    def __len__(self):\n",
    "        return len(self.members)\n",
    "\n",
    "t = Team([\"Ali\", \"Sara\"])\n",
    "print(len(t))  # ➜ 2"
   ]
  },
  {
   "cell_type": "markdown",
   "metadata": {},
   "source": [
    "> #### 5️⃣ `__add__`\n",
    "\n",
    "Defines `+` operator behavior.\n"
   ]
  },
  {
   "cell_type": "code",
   "execution_count": 46,
   "metadata": {},
   "outputs": [
    {
     "name": "stdout",
     "output_type": "stream",
     "text": [
      "15\n"
     ]
    }
   ],
   "source": [
    "class Number:\n",
    "    def __init__(self, value):\n",
    "        self.value = value\n",
    "    \n",
    "    def __add__(self, other):\n",
    "        return Number(self.value + other.value)\n",
    "\n",
    "n1 = Number(5)\n",
    "n2 = Number(10)\n",
    "result = n1 + n2\n",
    "print(result.value)  # ➜ 15"
   ]
  },
  {
   "cell_type": "markdown",
   "metadata": {},
   "source": [
    "> #### 6️⃣ `__eq__`\n",
    "\n",
    "Defines `==` comparison.\n"
   ]
  },
  {
   "cell_type": "code",
   "execution_count": null,
   "metadata": {},
   "outputs": [
    {
     "name": "stdout",
     "output_type": "stream",
     "text": [
      "True\n"
     ]
    }
   ],
   "source": [
    "class Person:\n",
    "    def __init__(self, name):\n",
    "        self.name = name\n",
    "    \n",
    "    def __eq__(self, other):\n",
    "        return self.name == other.name\n",
    "\n",
    "p1 = Person(\"Ali\")\n",
    "p2 = Person(\"Ali\")\n",
    "print(p1 == p2)  # ➜ True"
   ]
  },
  {
   "cell_type": "markdown",
   "metadata": {},
   "source": [
    "## ✅ 📌 **Quick Reference Table**\n",
    "\n",
    "| Magic Method | Purpose                    | Example Use         |\n",
    "| ------------ | -------------------------- | ------------------- |\n",
    "| `__init__`   | Initialize new objects     | `p = Person(\"Ali\")` |\n",
    "| `__str__`    | Readable string (print)    | `print(p)`          |\n",
    "| `__repr__`   | Unambiguous string (debug) | `repr(p)`           |\n",
    "| `__len__`    | Length of object           | `len(team)`         |\n",
    "| `__add__`    | Addition with `+` operator | `n1 + n2`           |\n",
    "| `__eq__`     | Equality comparison        | `p1 == p2`          |\n",
    "\n",
    "---\n",
    "\n",
    "✅ **Key Takeaway:**\n",
    "\n",
    "> **Magic methods** let your objects **integrate naturally** with Python’s built-in functions and operators, making them more intuitive and powerful.\n"
   ]
  },
  {
   "cell_type": "markdown",
   "metadata": {},
   "source": [
    "> ### **Example**"
   ]
  },
  {
   "cell_type": "code",
   "execution_count": 40,
   "metadata": {},
   "outputs": [
    {
     "name": "stdout",
     "output_type": "stream",
     "text": [
      "Batch 1 length: 4\n",
      "First item: (1, 'a')\n",
      "Slice: DataBatch with 2 samples\n",
      "Modified first item: (10, 'z')\n",
      "Iterating through batch:\n",
      "  Data: 10, Label: z\n",
      "  Data: 2, Label: b\n",
      "  Data: 3, Label: c\n",
      "  Data: 4, Label: d\n",
      "Repr: DataBatch(size=4, data=[10, 2, 3]...)\n",
      "Str: DataBatch with 4 samples\n",
      "Combined batch: DataBatch with 7 samples\n",
      "Is 2 in batch1? True\n",
      "Is 10 in batch1? True\n",
      "Empty batch is truthy: False\n",
      "Non-empty batch is truthy: True\n"
     ]
    }
   ],
   "source": [
    "class DataBatch:\n",
    "    \"\"\"A batch of data that behaves like a container.\"\"\"\n",
    "    \n",
    "    def __init__(self, data, labels=None):\n",
    "        self.data = list(data)\n",
    "        self.labels = list(labels) if labels else [None] * len(data)\n",
    "        \n",
    "        if len(self.data) != len(self.labels):\n",
    "            raise ValueError(\"Data and labels must have the same length\")\n",
    "    \n",
    "    def __len__(self):\n",
    "        \"\"\"Return the number of items in the batch.\"\"\"\n",
    "        return len(self.data)\n",
    "    \n",
    "    def __getitem__(self, index):\n",
    "        \"\"\"Get item by index - enables batch[i] syntax.\"\"\"\n",
    "        if isinstance(index, slice):\n",
    "            return DataBatch(self.data[index], self.labels[index])\n",
    "        return (self.data[index], self.labels[index])\n",
    "    \n",
    "    def __setitem__(self, index, value):\n",
    "        \"\"\"Set item by index - enables batch[i] = value syntax.\"\"\"\n",
    "        if isinstance(value, tuple) and len(value) == 2:\n",
    "            self.data[index], self.labels[index] = value\n",
    "        else:\n",
    "            raise ValueError(\"Value must be a tuple of (data, label)\")\n",
    "    \n",
    "    def __iter__(self):\n",
    "        \"\"\"Make the batch iterable.\"\"\"\n",
    "        for i in range(len(self)):\n",
    "            yield self[i]\n",
    "    \n",
    "    def __repr__(self):\n",
    "        \"\"\"Developer-friendly string representation.\"\"\"\n",
    "        return f\"DataBatch(size={len(self)}, data={self.data[:3]}{'...' if len(self) > 3 else ''})\"\n",
    "    \n",
    "    def __str__(self):\n",
    "        \"\"\"User-friendly string representation.\"\"\"\n",
    "        return f\"DataBatch with {len(self)} samples\"\n",
    "    \n",
    "    def __add__(self, other):\n",
    "        \"\"\"Combine two batches using + operator.\"\"\"\n",
    "        if not isinstance(other, DataBatch):\n",
    "            raise TypeError(\"Can only add DataBatch objects\")\n",
    "        \n",
    "        combined_data = self.data + other.data\n",
    "        combined_labels = self.labels + other.labels\n",
    "        return DataBatch(combined_data, combined_labels)\n",
    "    \n",
    "    def __eq__(self, other):\n",
    "        \"\"\"Check equality between batches.\"\"\"\n",
    "        if not isinstance(other, DataBatch):\n",
    "            return False\n",
    "        return self.data == other.data and self.labels == other.labels\n",
    "    \n",
    "    def __contains__(self, item):\n",
    "        \"\"\"Check if item is in batch data.\"\"\"\n",
    "        return item in self.data\n",
    "    \n",
    "    def __bool__(self):\n",
    "        \"\"\"Boolean conversion - False if empty.\"\"\"\n",
    "        return len(self.data) > 0\n",
    "\n",
    "# Usage examples\n",
    "batch1 = DataBatch([1, 2, 3, 4], ['a', 'b', 'c', 'd'])\n",
    "batch2 = DataBatch([5, 6, 7], ['e', 'f', 'g'])\n",
    "\n",
    "# __len__\n",
    "print(f\"Batch 1 length: {len(batch1)}\")\n",
    "\n",
    "# __getitem__\n",
    "print(f\"First item: {batch1[0]}\")\n",
    "print(f\"Slice: {batch1[1:3]}\")\n",
    "\n",
    "# __setitem__\n",
    "batch1[0] = (10, 'z')\n",
    "print(f\"Modified first item: {batch1[0]}\")\n",
    "\n",
    "# __iter__\n",
    "print(\"Iterating through batch:\")\n",
    "for data, label in batch1:\n",
    "    print(f\"  Data: {data}, Label: {label}\")\n",
    "\n",
    "# __repr__ and __str__\n",
    "print(f\"Repr: {repr(batch1)}\")\n",
    "print(f\"Str: {str(batch1)}\")\n",
    "\n",
    "# __add__\n",
    "combined_batch = batch1 + batch2\n",
    "print(f\"Combined batch: {combined_batch}\")\n",
    "\n",
    "# __contains__\n",
    "print(f\"Is 2 in batch1? {2 in batch1}\")\n",
    "print(f\"Is 10 in batch1? {10 in batch1}\")\n",
    "\n",
    "# __bool__\n",
    "empty_batch = DataBatch([], [])\n",
    "print(f\"Empty batch is truthy: {bool(empty_batch)}\")\n",
    "print(f\"Non-empty batch is truthy: {bool(batch1)}\")"
   ]
  },
  {
   "cell_type": "code",
   "execution_count": 41,
   "metadata": {},
   "outputs": [
    {
     "name": "stdout",
     "output_type": "stream",
     "text": [
      "RF > SVM: True\n",
      "NN > RF: True\n",
      "\n",
      "Models ranked by F1 score:\n",
      "1. Neural Network: Acc=0.880, Prec=0.850, Rec=0.850, F1=0.850\n",
      "2. Random Forest: Acc=0.850, Prec=0.800, Rec=0.900, F1=0.847\n",
      "3. SVM: Acc=0.820, Prec=0.880, Rec=0.760, F1=0.816\n",
      "\n",
      "Average score: Average: Acc=0.835, Prec=0.840, Rec=0.830, F1=0.835\n"
     ]
    }
   ],
   "source": [
    "class ModelScore:\n",
    "    \"\"\"Represents a model's performance score.\"\"\"\n",
    "    \n",
    "    def __init__(self, accuracy, precision, recall, model_name=\"Unknown\"):\n",
    "        self.accuracy = accuracy\n",
    "        self.precision = precision\n",
    "        self.recall = recall\n",
    "        self.model_name = model_name\n",
    "    \n",
    "    @property\n",
    "    def f1_score(self):\n",
    "        \"\"\"Calculate F1 score.\"\"\"\n",
    "        if self.precision + self.recall == 0:\n",
    "            return 0\n",
    "        return 2 * (self.precision * self.recall) / (self.precision + self.recall)\n",
    "    \n",
    "    def __lt__(self, other):\n",
    "        \"\"\"Less than comparison based on F1 score.\"\"\"\n",
    "        return self.f1_score < other.f1_score\n",
    "    \n",
    "    def __le__(self, other):\n",
    "        \"\"\"Less than or equal comparison.\"\"\"\n",
    "        return self.f1_score <= other.f1_score\n",
    "    \n",
    "    def __gt__(self, other):\n",
    "        \"\"\"Greater than comparison.\"\"\"\n",
    "        return self.f1_score > other.f1_score\n",
    "    \n",
    "    def __ge__(self, other):\n",
    "        \"\"\"Greater than or equal comparison.\"\"\"\n",
    "        return self.f1_score >= other.f1_score\n",
    "    \n",
    "    def __eq__(self, other):\n",
    "        \"\"\"Equality comparison.\"\"\"\n",
    "        return abs(self.f1_score - other.f1_score) < 1e-6\n",
    "    \n",
    "    def __add__(self, other):\n",
    "        \"\"\"Average two scores.\"\"\"\n",
    "        if not isinstance(other, ModelScore):\n",
    "            raise TypeError(\"Can only add ModelScore objects\")\n",
    "        \n",
    "        avg_accuracy = (self.accuracy + other.accuracy) / 2\n",
    "        avg_precision = (self.precision + other.precision) / 2\n",
    "        avg_recall = (self.recall + other.recall) / 2\n",
    "        \n",
    "        return ModelScore(avg_accuracy, avg_precision, avg_recall, \"Average\")\n",
    "    \n",
    "    def __str__(self):\n",
    "        return (f\"{self.model_name}: Acc={self.accuracy:.3f}, \"\n",
    "                f\"Prec={self.precision:.3f}, Rec={self.recall:.3f}, \"\n",
    "                f\"F1={self.f1_score:.3f}\")\n",
    "\n",
    "# Usage\n",
    "score1 = ModelScore(0.85, 0.80, 0.90, \"Random Forest\")\n",
    "score2 = ModelScore(0.82, 0.88, 0.76, \"SVM\")\n",
    "score3 = ModelScore(0.88, 0.85, 0.85, \"Neural Network\")\n",
    "\n",
    "# Comparison operations\n",
    "print(f\"RF > SVM: {score1 > score2}\")\n",
    "print(f\"NN > RF: {score3 > score1}\")\n",
    "\n",
    "# Sorting models by performance\n",
    "models = [score1, score2, score3]\n",
    "models.sort(reverse=True)  # Sort by F1 score (descending)\n",
    "\n",
    "print(\"\\nModels ranked by F1 score:\")\n",
    "for i, model in enumerate(models, 1):\n",
    "    print(f\"{i}. {model}\")\n",
    "\n",
    "# Average scores\n",
    "avg_score = score1 + score2\n",
    "print(f\"\\nAverage score: {avg_score}\")"
   ]
  },
  {
   "cell_type": "markdown",
   "metadata": {},
   "source": [
    "<h1 align=\"center\"> <strong>Abstract Base Classes</strong> </h1>\n",
    "\n",
    "### ✅ **What is an Abstract Base Class?**\n",
    "\n",
    "* An **Abstract Base Class (ABC)** is a *template* for other classes.\n",
    "* It **cannot be instantiated** directly.\n",
    "* It defines **abstract methods** that **must** be implemented by subclasses.\n",
    "\n",
    "### ✅ **Purpose:**\n",
    "\n",
    "* Enforce a common interface.\n",
    "* Ensure consistency in child classes.\n",
    "* Design for **polymorphism**.\n",
    "\n",
    "---\n",
    "\n",
    "### ✅ **Why Use ABCs?**\n",
    "\n",
    "| Benefit               | Explanation                                                 |\n",
    "| --------------------- | ----------------------------------------------------------- |\n",
    "| Interface Enforcement | Make sure all subclasses implement certain methods.         |\n",
    "| Code Organization     | Clarify intended design contracts.                          |\n",
    "| Polymorphic Behavior  | Let code work with any subclass that follows the interface. |\n",
    "\n",
    "### ✅ Use Case Example:\n",
    "\n",
    "* You want all *shapes* to have an `area()` method.\n",
    "* ABC ensures every subclass *must* implement `area()`.\n",
    "\n",
    "---\n",
    "\n",
    "### ✅ **How to Define ABCs in Python**\n",
    "\n",
    "Python’s `abc` module provides:\n",
    "\n",
    "* `ABC` as a base class\n",
    "* `@abstractmethod` decorator\n",
    "\n",
    "### ✅ Example Skeleton:"
   ]
  },
  {
   "cell_type": "code",
   "execution_count": 71,
   "metadata": {},
   "outputs": [],
   "source": [
    "from abc import ABC, abstractmethod\n",
    "\n",
    "class Shape(ABC):\n",
    "    @abstractmethod\n",
    "    def area(self):\n",
    "        pass"
   ]
  },
  {
   "cell_type": "markdown",
   "metadata": {},
   "source": [
    "* You **can’t** do: `s = Shape()`\n",
    "* Any subclass **must** implement `area()`"
   ]
  },
  {
   "cell_type": "markdown",
   "metadata": {},
   "source": [
    "### ✅ **Example: Enforcing Interface for Shapes**"
   ]
  },
  {
   "cell_type": "code",
   "execution_count": null,
   "metadata": {},
   "outputs": [],
   "source": [
    "from abc import ABC, abstractmethod\n",
    "\n",
    "class Shape(ABC):\n",
    "    @abstractmethod\n",
    "    def area(self):\n",
    "        pass\n",
    "\n",
    "class Rectangle(Shape):\n",
    "    def __init__(self, width, height):\n",
    "        self.width = width\n",
    "        self.height = height\n",
    "    \n",
    "    def area(self):\n",
    "        return self.width * self.height\n",
    "\n",
    "class Circle(Shape):\n",
    "    def __init__(self, radius):\n",
    "        self.radius = radius\n",
    "    \n",
    "    def area(self):\n",
    "        return 3.14 * self.radius ** 2"
   ]
  },
  {
   "cell_type": "markdown",
   "metadata": {},
   "source": [
    "### ✅ Usage:"
   ]
  },
  {
   "cell_type": "code",
   "execution_count": 73,
   "metadata": {},
   "outputs": [
    {
     "name": "stdout",
     "output_type": "stream",
     "text": [
      "200\n",
      "78.5\n"
     ]
    }
   ],
   "source": [
    "shapes = [Rectangle(10, 20), Circle(5)]\n",
    "\n",
    "for shape in shapes:\n",
    "    print(shape.area())"
   ]
  },
  {
   "cell_type": "markdown",
   "metadata": {},
   "source": [
    "### ✅ **What Happens If Subclass Doesn’t Implement Abstract Method?**"
   ]
  },
  {
   "cell_type": "code",
   "execution_count": 74,
   "metadata": {},
   "outputs": [
    {
     "ename": "TypeError",
     "evalue": "Can't instantiate abstract class Triangle with abstract method area",
     "output_type": "error",
     "traceback": [
      "\u001b[31m---------------------------------------------------------------------------\u001b[39m",
      "\u001b[31mTypeError\u001b[39m                                 Traceback (most recent call last)",
      "\u001b[36mCell\u001b[39m\u001b[36m \u001b[39m\u001b[32mIn[74]\u001b[39m\u001b[32m, line 4\u001b[39m\n\u001b[32m      1\u001b[39m \u001b[38;5;28;01mclass\u001b[39;00m\u001b[38;5;250m \u001b[39m\u001b[34;01mTriangle\u001b[39;00m(Shape):\n\u001b[32m      2\u001b[39m     \u001b[38;5;28;01mpass\u001b[39;00m\n\u001b[32m----> \u001b[39m\u001b[32m4\u001b[39m t = Triangle()\n",
      "\u001b[31mTypeError\u001b[39m: Can't instantiate abstract class Triangle with abstract method area"
     ]
    }
   ],
   "source": [
    "class Triangle(Shape):\n",
    "    pass\n",
    "\n",
    "t = Triangle()  # ❌ ERROR!"
   ]
  },
  {
   "cell_type": "markdown",
   "metadata": {},
   "source": [
    "### ✅ **Including Concrete Methods in ABC**\n",
    "\n",
    "\n",
    "* ABCs can have **concrete methods** (fully implemented).\n",
    "* Child classes inherit these automatically.\n",
    "\n",
    "### ✅ Example:"
   ]
  },
  {
   "cell_type": "code",
   "execution_count": null,
   "metadata": {},
   "outputs": [],
   "source": [
    "class Shape(ABC):\n",
    "    @abstractmethod\n",
    "    def area(self):\n",
    "        pass\n",
    "    \n",
    "    def describe(self):\n",
    "        print(\"I am a shape\")"
   ]
  },
  {
   "cell_type": "markdown",
   "metadata": {},
   "source": [
    "* `describe()` is shared as-is.\n",
    "* `area()` must be implemented in child classes.\n"
   ]
  },
  {
   "cell_type": "markdown",
   "metadata": {},
   "source": [
    "### ✅ **Advanced: Multiple Abstract Methods**\n",
    "You can define as many abstract methods as needed:\n"
   ]
  },
  {
   "cell_type": "code",
   "execution_count": 76,
   "metadata": {},
   "outputs": [],
   "source": [
    "class Vehicle(ABC):\n",
    "    @abstractmethod\n",
    "    def start_engine(self):\n",
    "        pass\n",
    "    \n",
    "    @abstractmethod\n",
    "    def stop_engine(self):\n",
    "        pass"
   ]
  },
  {
   "cell_type": "markdown",
   "metadata": {},
   "source": [
    "### ✅ Subclass must implement both:\n"
   ]
  },
  {
   "cell_type": "code",
   "execution_count": 77,
   "metadata": {},
   "outputs": [],
   "source": [
    "class Car(Vehicle):\n",
    "    def start_engine(self):\n",
    "        print(\"Engine started.\")\n",
    "    \n",
    "    def stop_engine(self):\n",
    "        print(\"Engine stopped.\")"
   ]
  },
  {
   "cell_type": "code",
   "execution_count": null,
   "metadata": {},
   "outputs": [
    {
     "name": "stdout",
     "output_type": "stream",
     "text": [
      "Rectangle Area: 50\n",
      "Circle    Area: 153.86\n"
     ]
    }
   ],
   "source": [
    "from abc import ABC, abstractmethod\n",
    "\n",
    "# This is the Abstract Base Class (ABC)\n",
    "class Shape(ABC):\n",
    "    # Abstract method - subclasses MUST implement this\n",
    "    @abstractmethod\n",
    "    def area(self):\n",
    "        pass\n",
    "\n",
    "\n",
    "# Rectangle inherits from Shape\n",
    "class Rectangle(Shape):\n",
    "    def __init__(self, width, height):\n",
    "        self.width = width\n",
    "        self.height = height\n",
    "    \n",
    "    def area(self):\n",
    "        return self.width * self.height\n",
    "\n",
    "\n",
    "# Circle inherits from Shape\n",
    "class Circle(Shape):\n",
    "    def __init__(self, radius):\n",
    "        self.radius = radius\n",
    "    \n",
    "    def area(self):\n",
    "        return 3.14 * self.radius ** 2\n",
    "\n",
    "\n",
    "# ✅ Usage Example\n",
    "rect = Rectangle(10, 5)\n",
    "circle = Circle(7)\n",
    "\n",
    "print(f\"Rectangle Area: {rect.area()}\")     # ➜ 50\n",
    "print(f\"Circle    Area: {circle.area()}\")   # ➜ approx 153.86"
   ]
  },
  {
   "cell_type": "markdown",
   "metadata": {},
   "source": [
    "#### ✅ **Quick Summary Table**\n",
    "\n",
    "| Concept           | Explanation                                        |\n",
    "| ----------------- | -------------------------------------------------- |\n",
    "| ABC               | Abstract Base Class, cannot be instantiated        |\n",
    "| `@abstractmethod` | Forces child classes to implement this method      |\n",
    "| Concrete Method   | Normal method in ABC that subclasses inherit       |\n",
    "| Usage             | Enforcing interface, organizing code, polymorphism |\n",
    "\n",
    "---\n",
    "\n",
    "#### ✅ **Key Takeaway**\n",
    "\n",
    "> Abstract Base Classes let you **define a contract** that all subclasses must follow.\n",
    "> They are essential for **interface design** in clean, maintainable OOP code.\n",
    "\n",
    "---\n",
    "\n",
    "#### ✅ Bonus: Real Use Cases in Data Science\n",
    "\n",
    "* Defining a common interface for:\n",
    "\n",
    "  * **Data Transformers** (fit, transform)\n",
    "  * **Models** (fit, predict)\n",
    "  * **Pipelines** (run, evaluate)"
   ]
  }
 ],
 "metadata": {
  "kernelspec": {
   "display_name": "anaconda-ml-ai",
   "language": "python",
   "name": "python3"
  },
  "language_info": {
   "codemirror_mode": {
    "name": "ipython",
    "version": 3
   },
   "file_extension": ".py",
   "mimetype": "text/x-python",
   "name": "python",
   "nbconvert_exporter": "python",
   "pygments_lexer": "ipython3",
   "version": "3.11.13"
  }
 },
 "nbformat": 4,
 "nbformat_minor": 2
}
